{
 "cells": [
  {
   "cell_type": "code",
   "execution_count": 10,
   "id": "55a0e4e9",
   "metadata": {},
   "outputs": [],
   "source": [
    "import os\n",
    "import pydicom"
   ]
  },
  {
   "cell_type": "code",
   "execution_count": 11,
   "id": "a36e66a0",
   "metadata": {},
   "outputs": [],
   "source": [
    "#APP_FOLDER = r'C:\\Users\\stamhane\\work\\counting_files\\input_data'\n",
    "#APP_FOLDER = r'C:\\Users\\stamhane\\work\\counting_files\\output_data'"
   ]
  },
  {
   "cell_type": "code",
   "execution_count": 12,
   "id": "8a7c0fc3",
   "metadata": {},
   "outputs": [],
   "source": [
    "def counting_files(APP_FOLDER):\n",
    "    \"\"\"  This function counts the number of files present and returns the total number of files \n",
    "    with the file names and the file address. In case directories are not needed that portion of code can be deleted \"\"\"\n",
    "    \n",
    "    totalFiles = 0\n",
    "    totalDir = 0\n",
    "    image_names = []\n",
    "    file_address = []\n",
    "    \n",
    "    for base, dirs, files in os.walk(APP_FOLDER):\n",
    "        #print('Searching in : ',base)\n",
    "        loc_dir = 0  #deal with this later\n",
    "        loc_files = 0\n",
    "        #print(\"Length of files is \", files)\n",
    "       \n",
    "        for directories in dirs:\n",
    "            totalDir += 1\n",
    "            loc_dir += 1\n",
    "        for Files in files:\n",
    "            totalFiles += 1\n",
    "            loc_files += 1\n",
    "            #print(\"File present in \", base)\n",
    "            image_names.append(Files)\n",
    "            file_address.append(base)\n",
    "        #print(\"Number of local directories are\", loc_dir)\n",
    "        #print(\"Number of local files are\", loc_files)\n",
    "        \n",
    "        \n",
    "    #print('Total number of images',totalFiles)\n",
    "    #print('Total Number of directories',totalDir)\n",
    "    print(image_names)\n",
    "    return totalFiles, image_names, file_address"
   ]
  },
  {
   "cell_type": "code",
   "execution_count": 13,
   "id": "ea576d9e",
   "metadata": {},
   "outputs": [],
   "source": [
    "def check_images(input_image, output_image):\n",
    "    \"\"\" This function only checks the file names and not the data inside.\n",
    "    Cannot be used if the file names are anonymised. \"\"\"\n",
    "    \n",
    "    not_present = []\n",
    "    for image in input_image:\n",
    "        #print(image)\n",
    "        if (image not in output_image):\n",
    "            not_present.append(image)\n",
    "    print(\"The following images are missing \", not_present)\n",
    "    return not_present"
   ]
  },
  {
   "cell_type": "code",
   "execution_count": 14,
   "id": "37cdee91",
   "metadata": {},
   "outputs": [],
   "source": [
    "def check_files(input_files, output_files, input_add, output_add):\n",
    "    \"\"\" This function checks the content of the dcm images. If the comparision_tags do not match, \n",
    "    then it returns the list of dcm files which are not present in the output \"\"\"\n",
    "    \n",
    "    not_present = []\n",
    "    comparision_tags = ['InstanceNumber', 'SOPInstanceUID', 'SeriesInstanceUID', 'StudyInstanceUID']\n",
    "    # Tags to be compared should be added here\n",
    "\n",
    "    for i, in_add in zip(input_files, input_add):\n",
    "        in_file_name = in_add + \"\\\\\" + i\n",
    "        ds1 = pydicom.dcmread(in_file_name)\n",
    "#         print(\"i is \", i)\n",
    "        for j, out_add in zip(output_files, output_add):\n",
    "#             print(\"j is \", j)\n",
    "            out_file_name = out_add + \"\\\\\" + j\n",
    "            ds2 = pydicom.dcmread(out_file_name)\n",
    "            \n",
    "            flag = 0\n",
    "            for tag in comparision_tags:\n",
    "                a = ds1[tag].value\n",
    "                b = ds2[tag].value\n",
    "                if(a!=b):\n",
    "                    flag = 1\n",
    "            if(flag==0):\n",
    "                #print(\"Same file\")\n",
    "                break\n",
    "                \n",
    "        if(flag==1):\n",
    "            not_present.append(in_file_name)\n",
    "            \n",
    "    return not_present    "
   ]
  },
  {
   "cell_type": "code",
   "execution_count": 15,
   "id": "cd68f603",
   "metadata": {},
   "outputs": [],
   "source": [
    "input_files_path = r'C:\\Users\\stamhane.URMC-SH\\Desktop\\work\\work\\counting_files\\input_data'\n",
    "output_files_path = r'C:\\Users\\stamhane.URMC-SH\\Desktop\\work\\work\\counting_files\\output_data'"
   ]
  },
  {
   "cell_type": "code",
   "execution_count": 16,
   "id": "dcd7eedd",
   "metadata": {},
   "outputs": [
    {
     "name": "stdout",
     "output_type": "stream",
     "text": [
      "['0002.DCM', '0003.DCM', 'MRBRAIN.DCM', '0004.DCM', '0020.DCM', '0009.DCM', '0012.DCM', '0015.DCM']\n",
      "------------------------------------------------------------------------------------\n",
      "['0002.DCM', '0003.DCM', '0004.DCM', '0009.DCM', '0012.DCM', '0015.DCM']\n",
      "------------------------------------------------------------------------------------\n",
      "Different number of images are present\n",
      "Number of images missing are :  2\n"
     ]
    }
   ],
   "source": [
    "# This chunk of code just tells us how many different images are present in the code\n",
    "\n",
    "\n",
    "flag = 0\n",
    "input_count, input_image_names, input_file_address = counting_files(input_files_path)\n",
    "print(\"------------------------------------------------------------------------------------\")\n",
    "output_count, output_image_names, output_file_address = counting_files(output_files_path)\n",
    "print(\"------------------------------------------------------------------------------------\")\n",
    "if(input_count == output_count):\n",
    "    print(\"Same number of images are present\")\n",
    "else:\n",
    "    print(\"Different number of images are present\")\n",
    "    print(\"Number of images missing are : \", input_count - output_count)\n",
    "    flag = 1"
   ]
  },
  {
   "cell_type": "code",
   "execution_count": 17,
   "id": "7a5c9a91",
   "metadata": {},
   "outputs": [
    {
     "name": "stdout",
     "output_type": "stream",
     "text": [
      "The following images are missing  ['MRBRAIN.DCM', '0020.DCM']\n",
      "['MRBRAIN.DCM', '0020.DCM']\n"
     ]
    }
   ],
   "source": [
    "missing_images = check_images(input_image_names, output_image_names)\n",
    "print(missing_images)"
   ]
  },
  {
   "cell_type": "code",
   "execution_count": 18,
   "id": "cafca02c",
   "metadata": {},
   "outputs": [
    {
     "name": "stdout",
     "output_type": "stream",
     "text": [
      "['C:\\\\Users\\\\stamhane.URMC-SH\\\\Desktop\\\\work\\\\work\\\\counting_files\\\\input_data\\\\input1\\\\MRBRAIN.DCM', 'C:\\\\Users\\\\stamhane.URMC-SH\\\\Desktop\\\\work\\\\work\\\\counting_files\\\\input_data\\\\input2\\\\0020.DCM']\n"
     ]
    }
   ],
   "source": [
    "missing_files = check_files(input_image_names, output_image_names, input_file_address, output_file_address)\n",
    "print(missing_files)"
   ]
  },
  {
   "cell_type": "code",
   "execution_count": null,
   "id": "8c36ff82",
   "metadata": {},
   "outputs": [],
   "source": []
  }
 ],
 "metadata": {
  "kernelspec": {
   "display_name": "Python 3 (ipykernel)",
   "language": "python",
   "name": "python3"
  },
  "language_info": {
   "codemirror_mode": {
    "name": "ipython",
    "version": 3
   },
   "file_extension": ".py",
   "mimetype": "text/x-python",
   "name": "python",
   "nbconvert_exporter": "python",
   "pygments_lexer": "ipython3",
   "version": "3.9.12"
  }
 },
 "nbformat": 4,
 "nbformat_minor": 5
}
